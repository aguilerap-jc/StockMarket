{
 "cells": [
  {
   "cell_type": "code",
   "execution_count": 11,
   "metadata": {},
   "outputs": [],
   "source": [
    "##Get libraries and configurations\n",
    "\n",
    "%matplotlib inline\n",
    "%config InlineBackend.figure_format = \"retina\"\n",
    "import warnings\n",
    "import matplotlib.pyplot as plt\n",
    "import pandas as pd\n",
    "import yfinance as yf\n"
   ]
  },
  {
   "cell_type": "code",
   "execution_count": 10,
   "metadata": {},
   "outputs": [],
   "source": [
    "#Configure Matplotlib and disable action warnings\n",
    "plt.style.use(\"seaborn\")\n",
    "plt.rcParams[\"figure.figsize\"] = [16,9]\n",
    "plt.rcParams[\"figure.dpi\"] = 300\n",
    "warnings.simplefilter(action=\"ignore\", category=FutureWarning)"
   ]
  },
  {
   "cell_type": "code",
   "execution_count": 12,
   "metadata": {},
   "outputs": [],
   "source": [
    "df_yf = yf.download(\"SPG\",start=\"2000-01-01\",end=\"2020-07-09\",progress=False)"
   ]
  },
  {
   "cell_type": "code",
   "execution_count": 13,
   "metadata": {},
   "outputs": [
    {
     "name": "stdout",
     "output_type": "stream",
     "text": [
      "                 Open       High        Low      Close  Adj Close     Volume\n",
      "Date                                                                        \n",
      "2000-01-03  21.173264  21.405300  20.709192  20.999237   7.878922   348800.0\n",
      "2000-01-04  20.941227  21.057245  20.303129  20.767200   7.791860   360700.0\n",
      "2000-01-05  20.419147  20.999237  20.419147  20.941227   7.857151   246500.0\n",
      "2000-01-06  20.999237  21.463308  20.883219  21.463308   8.053039   218400.0\n",
      "2000-01-07  21.405300  22.449461  21.347290  22.391451   8.401276   309400.0\n",
      "...               ...        ...        ...        ...        ...        ...\n",
      "2020-07-02  71.809998  72.959999  68.680000  68.809998  67.448669  6470600.0\n",
      "2020-07-06  69.720001  70.589996  67.010002  68.930000  67.566292  6075600.0\n",
      "2020-07-07  67.500000  67.660004  65.559998  65.930000  64.625648  5294900.0\n",
      "2020-07-08  66.000000  66.800003  64.379997  65.709999  64.409996  6884900.0\n",
      "2020-07-09        NaN        NaN        NaN        NaN        NaN        NaN\n",
      "\n",
      "[5162 rows x 6 columns]\n"
     ]
    }
   ],
   "source": [
    "print(df_yf)"
   ]
  },
  {
   "cell_type": "code",
   "execution_count": null,
   "metadata": {},
   "outputs": [],
   "source": []
  }
 ],
 "metadata": {
  "kernelspec": {
   "display_name": "Python 3",
   "language": "python",
   "name": "python3"
  },
  "language_info": {
   "codemirror_mode": {
    "name": "ipython",
    "version": 3
   },
   "file_extension": ".py",
   "mimetype": "text/x-python",
   "name": "python",
   "nbconvert_exporter": "python",
   "pygments_lexer": "ipython3",
   "version": "3.6.2"
  }
 },
 "nbformat": 4,
 "nbformat_minor": 2
}
